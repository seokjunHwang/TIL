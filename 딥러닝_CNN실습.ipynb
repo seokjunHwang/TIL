{
  "nbformat": 4,
  "nbformat_minor": 0,
  "metadata": {
    "colab": {
      "provenance": [],
      "authorship_tag": "ABX9TyP8gC90JJTRRyKnCFXhwaEY",
      "include_colab_link": true
    },
    "kernelspec": {
      "name": "python3",
      "display_name": "Python 3"
    },
    "language_info": {
      "name": "python"
    },
    "accelerator": "GPU",
    "gpuClass": "standard"
  },
  "cells": [
    {
      "cell_type": "markdown",
      "metadata": {
        "id": "view-in-github",
        "colab_type": "text"
      },
      "source": [
        "<a href=\"https://colab.research.google.com/github/seokjunHwang/TIL/blob/main/%EB%94%A5%EB%9F%AC%EB%8B%9D_CNN%EC%8B%A4%EC%8A%B5.ipynb\" target=\"_parent\"><img src=\"https://colab.research.google.com/assets/colab-badge.svg\" alt=\"Open In Colab\"/></a>"
      ]
    },
    {
      "cell_type": "code",
      "source": [
        "!nvidia-smi"
      ],
      "metadata": {
        "colab": {
          "base_uri": "https://localhost:8080/"
        },
        "id": "FAuw72JkZpYD",
        "outputId": "553dd97d-74af-4ef8-c8b6-79bd3729aab4"
      },
      "execution_count": null,
      "outputs": [
        {
          "output_type": "stream",
          "name": "stdout",
          "text": [
            "Fri Apr  7 06:28:16 2023       \n",
            "+-----------------------------------------------------------------------------+\n",
            "| NVIDIA-SMI 525.85.12    Driver Version: 525.85.12    CUDA Version: 12.0     |\n",
            "|-------------------------------+----------------------+----------------------+\n",
            "| GPU  Name        Persistence-M| Bus-Id        Disp.A | Volatile Uncorr. ECC |\n",
            "| Fan  Temp  Perf  Pwr:Usage/Cap|         Memory-Usage | GPU-Util  Compute M. |\n",
            "|                               |                      |               MIG M. |\n",
            "|===============================+======================+======================|\n",
            "|   0  Tesla T4            Off  | 00000000:00:04.0 Off |                    0 |\n",
            "| N/A   44C    P8    10W /  70W |      0MiB / 15360MiB |      0%      Default |\n",
            "|                               |                      |                  N/A |\n",
            "+-------------------------------+----------------------+----------------------+\n",
            "                                                                               \n",
            "+-----------------------------------------------------------------------------+\n",
            "| Processes:                                                                  |\n",
            "|  GPU   GI   CI        PID   Type   Process name                  GPU Memory |\n",
            "|        ID   ID                                                   Usage      |\n",
            "|=============================================================================|\n",
            "|  No running processes found                                                 |\n",
            "+-----------------------------------------------------------------------------+\n"
          ]
        }
      ]
    },
    {
      "cell_type": "code",
      "source": [
        "# Import Libraries\n",
        "import numpy as np\n",
        "import tensorflow as tf\n",
        "\n",
        "# cifar10과 keras layer들 불러오기\n",
        "from tensorflow.keras.datasets import cifar10\n",
        "from tensorflow.keras.layers import Input, Conv2D, MaxPool2D, Flatten, Dense"
      ],
      "metadata": {
        "id": "v6G-A8X6Y_5B"
      },
      "execution_count": null,
      "outputs": []
    },
    {
      "cell_type": "markdown",
      "source": [
        "\\"
      ],
      "metadata": {
        "id": "8MvHQ7pPal7c"
      }
    },
    {
      "cell_type": "code",
      "source": [
        "# Load Datasets\n",
        "(X_train, y_train), (X_test, y_test) = cifar10.load_data() \n",
        "# 사이퍼10을 다운받아서 보여줌\n",
        "\n",
        "print(X_train.shape) # 4차원 Tensor\n",
        "print(X_test.shape)\n",
        "### Preprocessing"
      ],
      "metadata": {
        "colab": {
          "base_uri": "https://localhost:8080/"
        },
        "id": "UsUgw7kvY_v8",
        "outputId": "90e9d2df-90e8-4794-8058-c428ca6cf6d2"
      },
      "execution_count": null,
      "outputs": [
        {
          "output_type": "stream",
          "name": "stdout",
          "text": [
            "Downloading data from https://www.cs.toronto.edu/~kriz/cifar-10-python.tar.gz\n",
            "170498071/170498071 [==============================] - 12s 0us/step\n",
            "(50000, 32, 32, 3)\n",
            "(10000, 32, 32, 3)\n"
          ]
        }
      ]
    },
    {
      "cell_type": "markdown",
      "source": [
        "- Normalization\n",
        "# Normalization (Minmax scaling)"
      ],
      "metadata": {
        "id": "tpVafXiWbJdW"
      }
    },
    {
      "cell_type": "code",
      "source": [
        "X_train = X_train / 255\n",
        "X_test = X_test / 255\n"
      ],
      "metadata": {
        "id": "dludrlh1ZGXm"
      },
      "execution_count": null,
      "outputs": []
    },
    {
      "cell_type": "code",
      "source": [
        "X_train[0] #0과 1사이의 수치값으로 바뀜"
      ],
      "metadata": {
        "id": "4TpRSLVjbZvI"
      },
      "execution_count": null,
      "outputs": []
    },
    {
      "cell_type": "markdown",
      "source": [
        "### Training with Vanilla CNN\n",
        "\n",
        "**Model Architecture**\n",
        "\n",
        "> Conv - Relu - Conv - Relu - Pool - Conv - Relu - Conv - Relu - Pool - FC - Softmax"
      ],
      "metadata": {
        "id": "gPU3ZTixZ5Ll"
      }
    },
    {
      "cell_type": "code",
      "source": [
        "# 위의 Vanilla CNN 구조를 직접 구현해봅니다.\n",
        "# 케라스에서 우리가 만들려는 뉴럴네트워크를 앞에서부터 \n",
        "# 순서대로 쌓아서 가는 직관적인 방법\n",
        "from tensorflow.keras import Sequential \n",
        "\n",
        "model = Sequential([\n",
        "      Input(shape=(32, 32, 3)),  # Input\n",
        "      # 우리데이터가 50000, 32 * 32 * 3인데 컴터는 어디까지가 인풋인지 모르니까\n",
        "      # 그냥 아무거나 써버림, 그래서 우리가 input은 이거다! 명시를 해줘야함\n",
        "      Conv2D(filters=6, kernel_size=5,strides=1,activation='relu'),  # Conv1\n",
        "      # Conv1을 하나 정의한 것\n",
        "      Conv2D(filters=16, kernel_size=5,strides=1,activation='relu'), # Conv2 \n",
        "      MaxPool2D(pool_size=2),\n",
        "      Flatten(),\n",
        "      Dense(units=1024, activation='relu'), # fc\n",
        "      Dense(units=10, activation='softmax') # output layer\n",
        "      ])\n",
        "\n",
        "model.summary()\n",
        "\n",
        "# 결과\n",
        "# weight가 가장 많은 layer는?\n",
        "# 첫번째 dense이다. (바로 위의 flatten에 +1한다음 1024곱하면 나옴)"
      ],
      "metadata": {
        "colab": {
          "base_uri": "https://localhost:8080/"
        },
        "id": "p9VwMTYfb0EM",
        "outputId": "c2e58e7e-d3a9-4980-d5ce-f2b86d7ade0c"
      },
      "execution_count": null,
      "outputs": [
        {
          "output_type": "stream",
          "name": "stdout",
          "text": [
            "Model: \"sequential_1\"\n",
            "_________________________________________________________________\n",
            " Layer (type)                Output Shape              Param #   \n",
            "=================================================================\n",
            " conv2d_2 (Conv2D)           (None, 28, 28, 6)         456       \n",
            "                                                                 \n",
            " conv2d_3 (Conv2D)           (None, 24, 24, 16)        2416      \n",
            "                                                                 \n",
            " max_pooling2d_1 (MaxPooling  (None, 12, 12, 16)       0         \n",
            " 2D)                                                             \n",
            "                                                                 \n",
            " flatten (Flatten)           (None, 2304)              0         \n",
            "                                                                 \n",
            " dense (Dense)               (None, 1024)              2360320   \n",
            "                                                                 \n",
            " dense_1 (Dense)             (None, 10)                10250     \n",
            "                                                                 \n",
            "=================================================================\n",
            "Total params: 2,373,442\n",
            "Trainable params: 2,373,442\n",
            "Non-trainable params: 0\n",
            "_________________________________________________________________\n"
          ]
        }
      ]
    },
    {
      "cell_type": "code",
      "source": [
        "\n",
        "# training setup\n",
        "from tensorflow.keras.optimizers import Adam\n",
        "\n",
        "## config variables\n",
        "batch_size = 256\n",
        "lr = 1e-3    # 1 * 10^(-3) = 0.001\n",
        "epochs = 10  # 10번 학습시킨다.\n",
        "\n",
        "# Set optimizer, loss function, metrics, callback function\n",
        "optimizer = Adam(learning_rate=lr)\n",
        "loss_fn = 'sparse_categorical_crossentropy' \n",
        "metrics = ['accuracy']\n",
        "\n",
        "# 모델 학습 준비\n",
        "model.compile(optimizer=optimizer, \n",
        "              loss=loss_fn,\n",
        "              metrics=metrics)\n"
      ],
      "metadata": {
        "id": "TfcsCpHqehH1"
      },
      "execution_count": null,
      "outputs": []
    },
    {
      "cell_type": "code",
      "source": [
        "# model training 모델학습\n",
        "# 한번만 직접 해봅시다!\n",
        "\n",
        "history = model.fit(\n",
        "    x = X_train,\n",
        "    y = y_train,\n",
        "    batch_size = batch_size,\n",
        "    epochs = epochs,\n",
        "    verbose = 1,\n",
        "    validation_data = (X_test, y_test)\n",
        ")"
      ],
      "metadata": {
        "colab": {
          "base_uri": "https://localhost:8080/"
        },
        "id": "Db3jmgZqfg2-",
        "outputId": "7b437bb4-8525-4fe6-be0d-037510825d9d"
      },
      "execution_count": null,
      "outputs": [
        {
          "output_type": "stream",
          "name": "stdout",
          "text": [
            "Epoch 1/10\n",
            "196/196 [==============================] - 14s 11ms/step - loss: 1.6228 - accuracy: 0.4169 - val_loss: 1.3700 - val_accuracy: 0.5205\n",
            "Epoch 2/10\n",
            "196/196 [==============================] - 1s 7ms/step - loss: 1.2694 - accuracy: 0.5497 - val_loss: 1.2648 - val_accuracy: 0.5637\n",
            "Epoch 3/10\n",
            "196/196 [==============================] - 2s 8ms/step - loss: 1.1170 - accuracy: 0.6085 - val_loss: 1.1927 - val_accuracy: 0.5946\n",
            "Epoch 4/10\n",
            "196/196 [==============================] - 1s 7ms/step - loss: 1.0115 - accuracy: 0.6437 - val_loss: 1.0798 - val_accuracy: 0.6212\n",
            "Epoch 5/10\n",
            "196/196 [==============================] - 2s 9ms/step - loss: 0.9073 - accuracy: 0.6845 - val_loss: 1.0641 - val_accuracy: 0.6281\n",
            "Epoch 6/10\n",
            "196/196 [==============================] - 2s 8ms/step - loss: 0.7988 - accuracy: 0.7243 - val_loss: 1.0318 - val_accuracy: 0.6430\n",
            "Epoch 7/10\n",
            "196/196 [==============================] - 1s 7ms/step - loss: 0.6918 - accuracy: 0.7655 - val_loss: 1.0590 - val_accuracy: 0.6462\n",
            "Epoch 8/10\n",
            "196/196 [==============================] - 1s 7ms/step - loss: 0.5814 - accuracy: 0.8030 - val_loss: 1.0449 - val_accuracy: 0.6524\n",
            "Epoch 9/10\n",
            "196/196 [==============================] - 1s 8ms/step - loss: 0.4626 - accuracy: 0.8463 - val_loss: 1.1535 - val_accuracy: 0.6442\n",
            "Epoch 10/10\n",
            "196/196 [==============================] - 1s 7ms/step - loss: 0.3605 - accuracy: 0.8817 - val_loss: 1.2453 - val_accuracy: 0.6420\n"
          ]
        }
      ]
    },
    {
      "cell_type": "code",
      "source": [
        "# evaluate\n",
        "loss, acc = model.evaluate(x=X_test, y=y_test, batch_size = batch_size)\n",
        "print(\"Loss : %.4f, Accuracy : %.4f\" % (loss, acc))\n",
        "\n",
        "# 랜덤으로 찍으면 0.1로 어큐러시가 나오는데 0.64정도가 나옴"
      ],
      "metadata": {
        "colab": {
          "base_uri": "https://localhost:8080/"
        },
        "id": "p_3s9fdhgHYI",
        "outputId": "fb19af7f-f975-4be9-9eb4-bed68154a863"
      },
      "execution_count": null,
      "outputs": [
        {
          "output_type": "stream",
          "name": "stdout",
          "text": [
            "40/40 [==============================] - 0s 5ms/step - loss: 1.2453 - accuracy: 0.6420\n",
            "Loss : 1.2453, Accuracy : 0.6420\n"
          ]
        }
      ]
    },
    {
      "cell_type": "markdown",
      "source": [
        "# loss visualize"
      ],
      "metadata": {
        "id": "B7tOD7UdhIFc"
      }
    },
    {
      "cell_type": "code",
      "source": [
        "\n",
        "import matplotlib.pyplot as plt\n",
        "\n",
        "plt.figure(figsize=(8,4))\n",
        "plt.subplot(1, 2,1)\n",
        "plt.plot(history.history['loss'],'b-', label = \"training\")\n",
        "plt.plot(history.history['val_loss'], 'r:', label = \"validation\")\n",
        "plt.title(\"model - loss\")\n",
        "plt.legend()\n",
        "\n",
        "plt.subplot(1, 2, 2)\n",
        "plt.title(\"model - accuracy\")\n",
        "\n",
        "plt.plot(history.history['accuracy'], 'b-', label = \"training\")\n",
        "plt.plot(history.history['val_accuracy'], 'r:', label = \"validation\")\n",
        "\n",
        "plt.legend()\n",
        "plt.tight_layout()\n",
        "plt.show()\n",
        "\n",
        "# 결과 \n",
        "# 2에포크부터 이미 오버피팅이 되고있어서 성능향상이 잘 안되고있음이 보임\n",
        "\n",
        "# model = sequential(~~\n",
        "# 이 부분의 여러가지 파라미터 수치값들을 바꿔보고 실험해보기, \n",
        "# 런닝레이트 에포크 등등 파라미터 바꿔서 실험해보기.\n",
        "# 하나 바꿀땐 나머지를 고정시켜야 변화를 제대로 알 수 있음."
      ],
      "metadata": {
        "colab": {
          "base_uri": "https://localhost:8080/",
          "height": 328
        },
        "id": "IyVhL3dWgpHO",
        "outputId": "dbcf0423-1b56-434c-cfdd-d8c6333deece"
      },
      "execution_count": null,
      "outputs": [
        {
          "output_type": "display_data",
          "data": {
            "text/plain": [
              "<Figure size 800x400 with 2 Axes>"
            ],
            "image/png": "[encoded data removed]"
          },
          "metadata": {}
        }
      ]
    },
    {
      "cell_type": "markdown",
      "source": [
        "### 이번엔 ResNet50를 사용해봅시다.\n",
        "\n",
        "- ResNet50을 사용하기 위해서는 keras에 구현되어 있는 ResNet50 구조를 가져옵니다.\n",
        "\n",
        "- pretrained를 가져오는 경우도 있지만, 지금은 ImageNet 세팅이 아니므로 구조만 가져옵니다.(input이 완전히 다름)\n",
        "\n",
        "- Reference : https://keras.io/api/applications/resnet/#resnet50-function"
      ],
      "metadata": {
        "id": "iB4sE1lLhT9z"
      }
    },
    {
      "cell_type": "code",
      "source": [
        "\n",
        "# load ResNet50\n",
        "\n",
        "\n",
        "resnet = ResNet50(\n",
        "\n",
        ")\n",
        "# see ResNet50 model\n",
        "resnet.summary()\n",
        "### resnet training strategy\n",
        "\n",
        "batch_size = \n",
        "epochs = \n",
        "lr = \n",
        "\n",
        "optimizer = \n",
        "loss_fn = \n",
        "metrics = \n",
        "\n",
        "resnet.compile(optimizer=optimizer,\n",
        "               loss=loss_fn,\n",
        "               metrics=metrics)\n",
        "# training ResNet50\n",
        "resnet_history = resnet.fit(X_train, y_train,\n",
        "                            batch_size=batch_size,\n",
        "                            epochs=epochs,\n",
        "                            validation_data=(X_test, y_test),\n",
        "                            verbose=1)\n",
        "## loss visualize\n",
        "import matplotlib.pyplot as plt\n",
        "\n",
        "plt.figure(figsize=(8,4))\n",
        "plt.subplot(1, 2,1)\n",
        "plt.plot(resnet_history.history['loss'],'b-', label = \"training\")\n",
        "plt.plot(resnet_history.history['val_loss'], 'r:', label = \"validation\")\n",
        "plt.title(\"model - loss\")\n",
        "plt.legend()\n",
        "\n",
        "plt.subplot(1, 2, 2)\n",
        "plt.title(\"model - accuracy\")\n",
        "\n",
        "plt.plot(resnet_history.history['accuracy'], 'b-', label = \"training\")\n",
        "plt.plot(resnet_history.history['val_accuracy'], 'r:', label = \"validation\")\n",
        "\n",
        "plt.legend()\n",
        "plt.tight_layout()\n",
        "plt.show()\n"
      ],
      "metadata": {
        "id": "0UsksGYwYiTW"
      },
      "execution_count": null,
      "outputs": []
    },
    {
      "cell_type": "code",
      "source": [],
      "metadata": {
        "id": "XUDhbtxhZoik"
      },
      "execution_count": null,
      "outputs": []
    }
  ]
}